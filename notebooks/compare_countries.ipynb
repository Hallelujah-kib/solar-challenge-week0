{
  "cells": [
    {
      "cell_type": "code",
      "execution_count": 1,
      "id": "b74e376c",
      "metadata": {},
      "outputs": [
        {
          "data": {
            "text/plain": [
              "<module 'compare_countries' from 'c:\\\\Users\\\\Lidya\\\\Documents\\\\projects\\\\solar-challenge-week0\\\\scripts\\\\compare_countries.py'>"
            ]
          },
          "execution_count": 1,
          "metadata": {},
          "output_type": "execute_result"
        }
      ],
      "source": [
        "import sys\n",
        "import os\n",
        "sys.path.append(os.path.abspath('../scripts'))\n",
        "import importlib\n",
        "import compare_countries\n",
        "%matplotlib inline\n",
        "importlib.reload(compare_countries)  # Reload to ensure latest module"
      ]
    },
    {
      "cell_type": "code",
      "execution_count": 2,
      "id": "fe764f9b",
      "metadata": {},
      "outputs": [],
      "source": [
        "# Define file paths\n",
        "file_paths = {\n",
        "    'Benin': '../data/benin_clean.csv',\n",
        "    'Sierra Leone': '../data/sierraleone_clean.csv',\n",
        "    'Togo': '../data/togo_clean.csv'\n",
        "}\n",
        "\n",
        "# Load data\n",
        "dataframes = compare_countries.load_data(file_paths)\n"
      ]
    },
    {
      "cell_type": "code",
      "execution_count": 3,
      "id": "101544df",
      "metadata": {},
      "outputs": [
        {
          "name": "stdout",
          "output_type": "stream",
          "text": [
            "Metric  Benin_Mean  Benin_Median  Benin_Std  Sierra Leone_Mean  Sierra Leone_Median  Sierra Leone_Std  Togo_Mean  Togo_Median   Togo_Std\n",
            "   GHI  513.411100        520.30 304.765569         445.471047                406.1        294.381895 454.081218        430.3 319.096010\n",
            "   DNI  356.480524        352.25 279.731019         256.390219                166.3        263.173538 296.409415        233.8 283.534417\n",
            "   DHI  247.397346        227.80 143.420836         251.600694                242.4        141.632581 228.166180        211.4 150.064955\n"
          ]
        }
      ],
      "source": [
        "# Generate plots and results\n",
        "compare_countries.create_boxplots(dataframes)\n",
        "summary = compare_countries.compute_summary_table(dataframes)\n",
        "print(summary.to_string(index=False))"
      ]
    },
    {
      "cell_type": "code",
      "execution_count": 4,
      "id": "8033ffe4",
      "metadata": {},
      "outputs": [
        {
          "name": "stdout",
          "output_type": "stream",
          "text": [
            "Summary Table:\n",
            "Metric  Benin_Mean  Benin_Median  Benin_Std  Sierra Leone_Mean  Sierra Leone_Median  Sierra Leone_Std  Togo_Mean  Togo_Median   Togo_Std\n",
            "   GHI  513.411100        520.30 304.765569         445.471047                406.1        294.381895 454.081218        430.3 319.096010\n",
            "   DNI  356.480524        352.25 279.731019         256.390219                166.3        263.173538 296.409415        233.8 283.534417\n",
            "   DHI  247.397346        227.80 143.420836         251.600694                242.4        141.632581 228.166180        211.4 150.064955\n"
          ]
        }
      ],
      "source": [
        "# Summary Table\n",
        "summary_table = compare_countries.compute_summary_table(dataframes)\n",
        "print(\"Summary Table:\")\n",
        "print(summary_table.to_string(index=False))"
      ]
    },
    {
      "cell_type": "markdown",
      "id": "c3aaafbf",
      "metadata": {},
      "source": [
        "## Perform Statistical Testing"
      ]
    },
    {
      "cell_type": "code",
      "execution_count": 5,
      "id": "480dcf3c",
      "metadata": {},
      "outputs": [
        {
          "name": "stdout",
          "output_type": "stream",
          "text": [
            "Statistical Test Results:\n",
            "ANOVA p-value: 0.0000\n",
            "Kruskal-Wallis p-value: 0.0000\n"
          ]
        }
      ],
      "source": [
        "# Cell 4: Statistical Testing\n",
        "stats_results = compare_countries.perform_statistical_tests(dataframes, metric='GHI')\n",
        "print(\"Statistical Test Results:\")\n",
        "print(f\"ANOVA p-value: {stats_results['ANOVA_pvalue']:.4f}\")\n",
        "print(f\"Kruskal-Wallis p-value: {stats_results['Kruskal_pvalue']:.4f}\")"
      ]
    },
    {
      "cell_type": "markdown",
      "id": "50728ff0",
      "metadata": {},
      "source": [
        "## Key Observations\n",
        "- Benin shows the highest median GHI (~520.3 W/m²), indicating the strongest solar potential among the three countries.\n",
        "- Togo has the greatest GHI variability (std ~319.1), suggesting inconsistent solar conditions possibly due to seasonal changes.\n",
        "- Sierra Leone exhibits a more stable GHI profile (median ~406.1 W/m², std ~294.4), making it suitable for consistent energy generation."
      ]
    },
    {
      "cell_type": "markdown",
      "id": "d52509da",
      "metadata": {},
      "source": [
        "## Visual Summary"
      ]
    },
    {
      "cell_type": "code",
      "execution_count": 9,
      "id": "28f50525",
      "metadata": {},
      "outputs": [
        {
          "data": {
            "image/png": "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