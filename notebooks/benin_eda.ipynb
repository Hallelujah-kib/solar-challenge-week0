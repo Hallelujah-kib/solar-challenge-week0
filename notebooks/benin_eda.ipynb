{
 "cells": [
  {
   "cell_type": "markdown",
   "id": "5c6571d0",
   "metadata": {},
   "source": [
    "# Benin Solar Dataset EDA\n",
    "## Profile, clean, and explore Benin solar data for insights."
   ]
  },
  {
   "cell_type": "code",
   "execution_count": null,
   "id": "06b0d1a2",
   "metadata": {},
   "outputs": [],
   "source": [
    "# Importing important libraries\n",
    "import pandas as pd\n",
    "import numpy as np\n",
    "import matplotlib.pyplot as plt\n",
    "import seaborn as sns\n",
    "import plotly.express as px\n",
    "from scipy import stats\n",
    "import plotly.graph_objects as go\n",
    "%matplotlib inline"
   ]
  },
  {
   "cell_type": "code",
   "execution_count": null,
   "id": "bc8b82a1",
   "metadata": {},
   "outputs": [],
   "source": [
    "# Loading Data\n",
    "df = pd.read_csv('../data/benin-malanville.csv')\n",
    "print(\"Shape:\", df.shape)\n",
    "print(\"Columns:\", df.columns.tolist())"
   ]
  },
  {
   "cell_type": "markdown",
   "id": "29e4aaa3",
   "metadata": {},
   "source": [
    "## Summary Statistics & Missing Values\n",
    "Stats for numeric columns, flag columns with >5% nulls."
   ]
  },
  {
   "cell_type": "code",
   "execution_count": null,
   "id": "12b950a4",
   "metadata": {},
   "outputs": [],
   "source": [
    "# Numeric columns\n",
    "numeric_cols = ['GHI', 'DNI', 'DHI', 'ModA', 'ModB', 'Tamb', 'RH', 'WS', 'WSgust', 'WSstdev', 'WD', 'WDstdev', 'BP', 'Precipitation', 'TModA', 'TModB']\n",
    "print(\"Summary Stats:\")\n",
    "print(df[numeric_cols].describe().round(2))\n",
    "\n",
    "# Missing values\n",
    "print(\"\\nMissing Values:\")\n",
    "missing = df.isna().sum()\n",
    "missing_pct = (missing / len(df) * 100).round(2)\n",
    "print(pd.DataFrame({'Count': missing, 'Percent': missing_pct}))\n",
    "print(\"\\nColumns with >5% Nulls:\", missing_pct[missing_pct > 5].index.tolist())"
   ]
  },
  {
   "cell_type": "markdown",
   "id": "c0f92e3a",
   "metadata": {},
   "source": [
    "## Outlier Detection & Cleaning\n",
    "Z-scores for GHI, DNI, DHI, ModA, ModB, WS, WSgust; handle negatives, missing values."
   ]
  },
  {
   "cell_type": "code",
   "execution_count": null,
   "id": "58b6222a",
   "metadata": {},
   "outputs": [],
   "source": [
    "# Key columns for cleaning\n",
    "key_cols = ['GHI', 'DNI', 'DHI', 'ModA', 'ModB', 'WS', 'WSgust']\n",
    "\n",
    "# Check for negative values\n",
    "print(\"Negative Values in Key Columns:\")\n",
    "negatives = {col: (df[col] < 0).sum() for col in key_cols}\n",
    "for col, count in negatives.items():\n",
    "    print(f\"{col}: {count}\")\n",
    "\n",
    "# Compute Z-scores for outliers\n",
    "z_scores = stats.zscore(df[key_cols].fillna(df[key_cols].median()))\n",
    "outliers = (abs(z_scores) > 3).any(axis=1)\n",
    "print(f\"\\nOutliers (|Z|>3): {outliers.sum()} rows\")\n",
    "\n",
    "# Clean: Remove negatives in GHI, DNI, DHI; impute missing values with median\n",
    "df_clean = df.copy()\n",
    "for col in ['GHI', 'DNI', 'DHI']:  # Remove negatives in solar irradiance columns\n",
    "    df_clean = df_clean[df_clean[col] >= 0]\n",
    "df_clean[key_cols] = df_clean[key_cols].fillna(df[key_cols].median())\n",
    "\n",
    "# Verify cleaned data\n",
    "print(f\"Cleaned Shape: {df_clean.shape}\")\n",
    "print(\"Remaining Negatives in Key Columns:\")\n",
    "for col in key_cols:\n",
    "    print(f\"{col}: {(df_clean[col] < 0).sum()}\")\n",
    "\n",
    "# Export cleaned DataFrame\n",
    "df_clean.to_csv('../data/benin_clean.csv', index=False)\n",
    "print(\"Cleaned data exported to '../data/benin_clean.csv'\")"
   ]
  },
  {
   "cell_type": "markdown",
   "id": "dd0a0466",
   "metadata": {},
   "source": [
    "## Time Series Analysis\n",
    "Plot GHI, DNI, DHI, Tamb vs. Timestamp; analyze patterns."
   ]
  },
  {
   "cell_type": "code",
   "execution_count": null,
   "id": "8d2db224",
   "metadata": {},
   "outputs": [],
   "source": [
    "df_clean['Timestamp'] = pd.to_datetime(df_clean['Timestamp'])\n",
    "plt.figure(figsize=(12, 6))\n",
    "for col in ['GHI', 'DNI', 'DHI', 'Tamb']:\n",
    "    plt.plot(df_clean['Timestamp'], df_clean[col], label=col)\n",
    "plt.title('Benin: Solar and Temperature Over Time')\n",
    "plt.xlabel('Timestamp')\n",
    "plt.ylabel('Value')\n",
    "plt.legend()\n",
    "plt.show()\n",
    "\n",
    "# Monthly averages\n",
    "df_clean['Month'] = df_clean['Timestamp'].dt.month\n",
    "monthly = df_clean.groupby('Month')[['GHI', 'DNI', 'DHI']].mean()\n",
    "monthly.plot(kind='bar', figsize=(10, 6), title='Benin: Monthly Averages')\n",
    "plt.show()"
   ]
  },
  {
   "cell_type": "markdown",
   "id": "ab806982",
   "metadata": {},
   "source": [
    "## Cleaning Impact\n",
    "Average ModA, ModB by Cleaning flag."
   ]
  },
  {
   "cell_type": "code",
   "execution_count": null,
   "id": "ce34d309",
   "metadata": {},
   "outputs": [],
   "source": [
    "cleaning_impact = df_clean.groupby('Cleaning')[['ModA', 'ModB']].mean()\n",
    "cleaning_impact.plot(kind='bar', figsize=(8, 5), title='Benin: ModA, ModB by Cleaning')\n",
    "plt.show()"
   ]
  },
  {
   "cell_type": "markdown",
   "id": "37bf7885",
   "metadata": {},
   "source": [
    "## Correlation Analysis\n",
    "Heatmap for GHI, DNI, DHI, TModA, TModB."
   ]
  },
  {
   "cell_type": "code",
   "execution_count": null,
   "id": "ec1faaa4",
   "metadata": {},
   "outputs": [],
   "source": [
    "corr_cols = ['GHI', 'DNI', 'DHI', 'TModA', 'TModB']\n",
    "sns.heatmap(df_clean[corr_cols].corr(), annot=True, cmap='coolwarm', vmin=-1, vmax=1)\n",
    "plt.title('Benin: Correlation Heatmap')\n",
    "plt.show()\n",
    "\n",
    "# Scatter plots\n",
    "for col in ['WS', 'WSgust', 'WD']:\n",
    "    plt.figure(figsize=(6, 4))\n",
    "    plt.scatter(df_clean[col], df_clean['GHI'], alpha=0.5)\n",
    "    plt.title(f'Benin: {col} vs. GHI')\n",
    "    plt.xlabel(col)\n",
    "    plt.ylabel('GHI')\n",
    "    plt.show()\n",
    "\n",
    "for col in ['Tamb','GHI']:    \n",
    "    plt.figure(figsize=(6, 4))\n",
    "    plt.scatter(df_clean['RH'], df_clean[col], alpha=0.5)\n",
    "    plt.title(f'Benin: RH vs. {col}')\n",
    "    plt.xlabel('RH')\n",
    "    plt.ylabel(col)\n",
    "    plt.show()\n"
   ]
  },
  {
   "cell_type": "markdown",
   "id": "fef91ab4",
   "metadata": {},
   "source": [
    "## Wind & Distribution Analysis\n",
    "Wind rose for WS/WD, histograms for GHI, WS."
   ]
  },
  {
   "cell_type": "code",
   "execution_count": null,
   "id": "579c3af8",
   "metadata": {},
   "outputs": [],
   "source": [
    "\n",
    "# Wind rose using Plotly Barpolar\n",
    "bins = np.linspace(0, 360, 17)  # 16 bins for 360 degrees\n",
    "wd_binned = pd.cut(df_clean['WD'], bins, include_lowest=True, labels=bins[:-1])\n",
    "ws_mean = df_clean.groupby(wd_binned, observed=True)['WS'].mean().reset_index()\n",
    "ws_mean['WD'] = ws_mean['WD'].astype(float)  # Ensure WD is numeric\n",
    "\n",
    "# Create wind rose with labels for r and theta on hover\n",
    "fig = go.Figure(data=[\n",
    "    go.Barpolar(\n",
    "        r=ws_mean['WS'],\n",
    "        theta=ws_mean['WD'],\n",
    "        marker_colorscale='Viridis',\n",
    "        marker_color=ws_mean['WS'],\n",
    "        name='Wind Speed (m/s)',\n",
    "        text=[f'r={r:.1f}, θ={θ:.0f}°' for r, θ in zip(ws_mean['WS'], ws_mean['WD'])],  # Labels for r and theta\n",
    "        hoverinfo='text',  # Show labels on hover\n",
    "        hoverlabel=dict(\n",
    "            font=dict(size=12, color='black')  # Style hover labels\n",
    "        )\n",
    "    )\n",
    "])\n",
    "fig.update_layout(\n",
    "    title='Benin: Wind Rose (Average WS by WD)',\n",
    "    polar=dict(\n",
    "        radialaxis=dict(\n",
    "            visible=True,\n",
    "            title='Wind Speed (m/s)'\n",
    "        ),\n",
    "        angularaxis=dict(\n",
    "            direction='clockwise',\n",
    "            showticklabels=True\n",
    "        )\n",
    "    ),\n",
    "    annotations=[\n",
    "        dict(\n",
    "            text='Wind Direction (degrees)',\n",
    "            x=0.5,\n",
    "            y=-0.1,\n",
    "            xref='paper',\n",
    "            yref='paper',\n",
    "            showarrow=False,\n",
    "            font=dict(size=12)\n",
    "        )\n",
    "    ],\n",
    "    showlegend=True,\n",
    "    width=800,  # Increase circle size\n",
    "    height=800  # Increase circle size\n",
    ")\n",
    "fig.show()\n",
    "\n",
    "# Histograms for GHI and WS (unchanged)\n",
    "plt.figure(figsize=(12, 5))\n",
    "\n",
    "# GHI histogram\n",
    "plt.subplot(1, 2, 1)\n",
    "sns.histplot(df_clean['GHI'], bins=50, color='blue')\n",
    "plt.title('Benin: GHI Distribution')\n",
    "plt.xlabel('GHI (W/m²)')\n",
    "plt.ylabel('Frequency')\n",
    "\n",
    "# WS histogram\n",
    "plt.subplot(1, 2, 2)\n",
    "sns.histplot(df_clean['WS'], bins=50, color='green')\n",
    "plt.title('Benin: WS Distribution')\n",
    "plt.xlabel('Wind Speed (m/s)')\n",
    "plt.ylabel('Frequency')\n",
    "\n",
    "plt.tight_layout()\n",
    "plt.show()"
   ]
  },
  {
   "cell_type": "markdown",
   "id": "ea553804",
   "metadata": {},
   "source": [
    "## Temperature Analysis\n",
    "RH influence on Tamb, GHI."
   ]
  },
  {
   "cell_type": "code",
   "execution_count": null,
   "id": "08762c96",
   "metadata": {},
   "outputs": [],
   "source": [
    "plt.figure(figsize=(6, 4))\n",
    "plt.scatter(df_clean['RH'], df_clean['Tamb'], alpha=0.5)\n",
    "plt.title('Benin: RH vs. Tamb')\n",
    "plt.xlabel('RH (%)')\n",
    "plt.ylabel('Tamb (°C)')\n",
    "plt.show()\n",
    "\n",
    "plt.scatter(df_clean['RH'], df_clean['GHI'], alpha=0.5)\n",
    "plt.title('Benin: RH vs. GHI')\n",
    "plt.xlabel('RH (%)')\n",
    "plt.ylabel('GHI (W/m²)')\n",
    "plt.show()\n"
   ]
  },
  {
   "cell_type": "markdown",
   "id": "585b4233",
   "metadata": {},
   "source": [
    "## Bubble Chart\n",
    "GHI vs. Tamb, bubble size = RH."
   ]
  },
  {
   "cell_type": "code",
   "execution_count": null,
   "id": "148f94c6",
   "metadata": {},
   "outputs": [],
   "source": [
    "# Bubble chart: GHI vs. Tamb, bubble size = RH\n",
    "plt.figure(figsize=(8, 6))\n",
    "plt.scatter(\n",
    "    df_clean['Tamb'],\n",
    "    df_clean['GHI'],\n",
    "    s=df_clean['RH'] * 20,  # Scale RH for bubble size\n",
    "    alpha=0.5,\n",
    "    c=df_clean['RH'],  # Color by RH for clarity\n",
    "    cmap='viridis'\n",
    ")\n",
    "plt.colorbar(label='Relative Humidity (%)')\n",
    "plt.title('Benin: GHI vs. Tamb (Bubble Size = RH)')\n",
    "plt.xlabel('Tamb (°C)')\n",
    "plt.ylabel('GHI (W/m²)')\n",
    "plt.show()"
   ]
  }
 ],
 "metadata": {
  "kernelspec": {
   "display_name": "venv",
   "language": "python",
   "name": "python3"
  },
  "language_info": {
   "codemirror_mode": {
    "name": "ipython",
    "version": 3
   },
   "file_extension": ".py",
   "mimetype": "text/x-python",
   "name": "python",
   "nbconvert_exporter": "python",
   "pygments_lexer": "ipython3",
   "version": "3.9.13"
  }
 },
 "nbformat": 4,
 "nbformat_minor": 5
}
